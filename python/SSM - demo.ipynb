{
 "cells": [
  {
   "cell_type": "code",
   "execution_count": null,
   "metadata": {},
   "outputs": [],
   "source": [
    "import ssm.pca, ssm.atlas"
   ]
  },
  {
   "cell_type": "code",
   "execution_count": null,
   "metadata": {},
   "outputs": [],
   "source": []
  },
  {
   "cell_type": "markdown",
   "metadata": {},
   "source": [
    "# Test example\n",
    "using deformetrica skulls"
   ]
  },
  {
   "cell_type": "code",
   "execution_count": null,
   "metadata": {},
   "outputs": [],
   "source": [
    "base_dir = \"/home/face3d/programs/deformetrica_examples/atlas/landmark/2d/skulls/\""
   ]
  },
  {
   "cell_type": "markdown",
   "metadata": {},
   "source": [
    "Pré-processing"
   ]
  },
  {
   "cell_type": "code",
   "execution_count": null,
   "metadata": {},
   "outputs": [],
   "source": []
  },
  {
   "cell_type": "markdown",
   "metadata": {},
   "source": [
    "Atlas estimation"
   ]
  },
  {
   "cell_type": "code",
   "execution_count": null,
   "metadata": {},
   "outputs": [],
   "source": [
    "ae = ssm.atlas.DeformetricaAtlasEstimation(\n",
    "        idir=base_dir + \"data/\",\n",
    "        odir=\"out_skull/\",\n",
    "        name=\"skull\",\n",
    "        initial_guess=0,\n",
    "        kwd=40.,\n",
    "        kwg=20.,\n",
    "        noise=1.)\n",
    "ae.object_type = \"polyline\"\n",
    "ae.attachment_type = \"varifold\""
   ]
  },
  {
   "cell_type": "code",
   "execution_count": null,
   "metadata": {},
   "outputs": [],
   "source": [
    "print(ae.initial_guess)\n",
    "ae.save_parameters()"
   ]
  },
  {
   "cell_type": "code",
   "execution_count": null,
   "metadata": {},
   "outputs": [],
   "source": [
    "ae.estimate()"
   ]
  },
  {
   "cell_type": "code",
   "execution_count": null,
   "metadata": {},
   "outputs": [],
   "source": []
  },
  {
   "cell_type": "code",
   "execution_count": null,
   "metadata": {},
   "outputs": [],
   "source": [
    "sp.call([\"paraview\", \"--data=\" + ae.odir + \"output/DeterministicAtlas__EstimatedParameters__Template_\" + ae.id + \".vtk\"])"
   ]
  },
  {
   "cell_type": "markdown",
   "metadata": {},
   "source": [
    "#### Results\n",
    "PCA"
   ]
  },
  {
   "cell_type": "code",
   "execution_count": null,
   "metadata": {},
   "outputs": [],
   "source": [
    "ao = ssm.pca.DeformetricaAtlasPCA(\n",
    "    idir = ae.odir + \"output/\",\n",
    "    odir = ae.odir + \"pca/\")\n",
    "ao.compute_pca(with_plots=True)\n",
    "f0 = ao.save_eigv(0, with_controlpoints=True)\n",
    "f1 = ao.save_eigv(1, with_controlpoints=True)"
   ]
  },
  {
   "cell_type": "code",
   "execution_count": null,
   "metadata": {},
   "outputs": [],
   "source": []
  },
  {
   "cell_type": "code",
   "execution_count": null,
   "metadata": {},
   "outputs": [],
   "source": [
    "ae.shooting(f0 + \".txt\", ae.odir + \"pca/shoot0/\")\n",
    "ae.shooting(f1 + \".txt\", ae.odir + \"pca/shoot1/\")"
   ]
  },
  {
   "cell_type": "markdown",
   "metadata": {},
   "source": [
    "#### warping mesh to template\n"
   ]
  },
  {
   "cell_type": "code",
   "execution_count": null,
   "metadata": {},
   "outputs": [],
   "source": [
    "fmmt, fctp = ae.momenta_from_sbj_to_atlas(0, ae.odir + \"sbj{}/\".format(0), do_warpback=True)"
   ]
  },
  {
   "cell_type": "code",
   "execution_count": null,
   "metadata": {},
   "outputs": [],
   "source": []
  }
 ],
 "metadata": {
  "kernelspec": {
   "display_name": "Python 3",
   "language": "python",
   "name": "python3"
  },
  "language_info": {
   "codemirror_mode": {
    "name": "ipython",
    "version": 3
   },
   "file_extension": ".py",
   "mimetype": "text/x-python",
   "name": "python",
   "nbconvert_exporter": "python",
   "pygments_lexer": "ipython3",
   "version": "3.7.10"
  }
 },
 "nbformat": 4,
 "nbformat_minor": 4
}

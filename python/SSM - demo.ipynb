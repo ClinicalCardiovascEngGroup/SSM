{
 "cells": [
  {
   "cell_type": "code",
   "execution_count": 1,
   "metadata": {},
   "outputs": [],
   "source": [
    "import pickle, re, sys"
   ]
  },
  {
   "cell_type": "code",
   "execution_count": 2,
   "metadata": {},
   "outputs": [],
   "source": [
    "import matplotlib.pyplot as plt\n",
    "import matplotlib"
   ]
  },
  {
   "cell_type": "code",
   "execution_count": 3,
   "metadata": {},
   "outputs": [],
   "source": [
    "import logging\n",
    "mpl_logger = logging.getLogger('matplotlib')\n",
    "mpl_logger.setLevel(logging.WARNING) "
   ]
  },
  {
   "cell_type": "code",
   "execution_count": 4,
   "metadata": {},
   "outputs": [],
   "source": [
    "import ssm_pca, ssm_tools, ssm_atlas"
   ]
  },
  {
   "cell_type": "code",
   "execution_count": 5,
   "metadata": {},
   "outputs": [],
   "source": [
    "%qtconsole"
   ]
  },
  {
   "cell_type": "code",
   "execution_count": 16,
   "metadata": {},
   "outputs": [
    {
     "data": {
      "text/plain": [
       "<module 'ssm_pca' from '/home/face3d/Documents/SSM_matlab_github/python/ssm_pca.py'>"
      ]
     },
     "execution_count": 16,
     "metadata": {},
     "output_type": "execute_result"
    }
   ],
   "source": [
    "import importlib"
   ]
  },
  {
   "cell_type": "code",
   "execution_count": null,
   "metadata": {},
   "outputs": [],
   "source": []
  },
  {
   "cell_type": "markdown",
   "metadata": {},
   "source": [
    "# TOF aortas -- Endrit"
   ]
  },
  {
   "cell_type": "code",
   "execution_count": 5,
   "metadata": {},
   "outputs": [],
   "source": [
    "base_dir = \"/home/face3d/Desktop/SSM - visualisation demo/Aorta -- Endrit/\"\n",
    "list_id = [l.strip() for l in open(base_dir + \"list.txt\", \"r\")]"
   ]
  },
  {
   "cell_type": "markdown",
   "metadata": {},
   "source": [
    "Pré-processing"
   ]
  },
  {
   "cell_type": "code",
   "execution_count": null,
   "metadata": {},
   "outputs": [],
   "source": []
  },
  {
   "cell_type": "markdown",
   "metadata": {},
   "source": [
    "Atlas estimation"
   ]
  },
  {
   "cell_type": "code",
   "execution_count": 6,
   "metadata": {},
   "outputs": [],
   "source": [
    "ae = ssm_atlas.DeformetricaAtlasEstimation(\n",
    "        idir=base_dir + \"TOF/\",\n",
    "        odir=base_dir + \"out/\",\n",
    "        name=\"aorta\",\n",
    "        initial_guess=0,\n",
    "        kwd=25.,\n",
    "        kwg=15.,\n",
    "        noise=10.)"
   ]
  },
  {
   "cell_type": "code",
   "execution_count": 7,
   "metadata": {},
   "outputs": [
    {
     "name": "stdout",
     "output_type": "stream",
     "text": [
      "/home/face3d/Desktop/SSM - visualisation demo/Aorta -- Endrit/TOF/TOFPR-3-1-segmentation_ext.vtk\n"
     ]
    }
   ],
   "source": [
    "print(ae.initial_guess)"
   ]
  },
  {
   "cell_type": "code",
   "execution_count": 17,
   "metadata": {},
   "outputs": [
    {
     "name": "stdout",
     "output_type": "stream",
     "text": [
      "Logger has been set to: DEBUG\n",
      ">> No initial CP spacing given: using diffeo kernel width of 25.0\n",
      "OMP_NUM_THREADS found in environment variables. Using value OMP_NUM_THREADS=4\n",
      "context has already been set\n",
      ">> No specified state-file. By default, Deformetrica state will by saved in file: /home/face3d/Desktop/SSM - visualisation demo/Aorta -- Endrit/out/output/deformetrica-state.p.\n",
      ">> Using a Sobolev gradient for the template data with the ScipyLBFGS estimator memory length being larger than 1. Beware: that can be tricky.\n",
      "{'memory_length': 10, 'freeze_template': False, 'max_line_search_iterations': 10, 'optimized_log_likelihood': 'complete', 'optimization_method_type': 'scipylbfgs', 'max_iterations': 50, 'convergence_tolerance': 0.001, 'print_every_n_iters': 1, 'save_every_n_iters': 100, 'gpu_mode': <GpuMode.KERNEL: 4>, 'state_file': '/home/face3d/Desktop/SSM - visualisation demo/Aorta -- Endrit/out/output/deformetrica-state.p', 'load_state_file': False}\n",
      "/home/face3d/Desktop/SSM - visualisation demo/Aorta -- Endrit/TOF/TOFPR-3-1-segmentation_ext.vtk 3\n",
      "(5000, 3) (9900, 3)\n",
      "/home/face3d/Desktop/SSM - visualisation demo/Aorta -- Endrit/TOF/TOFPR-6-1-segmentation_ext.vtk 3\n",
      "(6074, 3) (12048, 3)\n",
      "/home/face3d/Desktop/SSM - visualisation demo/Aorta -- Endrit/TOF/TOFPR-7-2-segmentation_ext.vtk 3\n",
      "(10770, 3) (21440, 3)\n",
      "/home/face3d/Desktop/SSM - visualisation demo/Aorta -- Endrit/TOF/TOFPR-8-2-segmentation_ext.vtk 3\n",
      "(8091, 3) (16082, 3)\n",
      "/home/face3d/Desktop/SSM - visualisation demo/Aorta -- Endrit/TOF/TOFPR-9-1-segmentation_ext.vtk 3\n",
      "(12231, 3) (24362, 3)\n",
      "instantiating kernel torch with kernel_width 25.0 and gpu_mode GpuMode.KERNEL. addr: 0x7f2f301395d0\n",
      "/home/face3d/Desktop/SSM - visualisation demo/Aorta -- Endrit/TOF/TOFPR-3-1-segmentation_ext.vtk 3\n",
      "(5000, 3) (9900, 3)\n",
      ">> Set of 24 control points defined.\n",
      ">> Momenta initialized to zero, for 5 subjects.\n",
      "dtype=float32\n",
      ">> Started estimator: ScipyOptimize\n",
      "\n",
      ">> Scipy optimization method: L-BFGS-B\n",
      "\n",
      "------------------------------------- Iteration: 1 -------------------------------------\n",
      ">> Log-likelihood = -9.929E+04 \t [ attachment = -9.929E+04 ; regularity = 0.000E+00 ]\n",
      ">> Log-likelihood = -9.918E+04 \t [ attachment = -9.918E+04 ; regularity = -1.474E-03 ]\n",
      ">> Log-likelihood = -9.877E+04 \t [ attachment = -9.877E+04 ; regularity = -3.685E-02 ]\n",
      ">> Log-likelihood = -9.712E+04 \t [ attachment = -9.712E+04 ; regularity = -6.500E-01 ]\n",
      ">> Log-likelihood = -9.063E+04 \t [ attachment = -9.062E+04 ; regularity = -1.065E+01 ]\n",
      "\n",
      "------------------------------------- Iteration: 2 -------------------------------------\n",
      ">> Log-likelihood = -1.867E+05 \t [ attachment = -1.834E+05 ; regularity = -3.380E+03 ]\n",
      ">> Log-likelihood = -7.956E+04 \t [ attachment = -7.865E+04 ; regularity = -9.084E+02 ]\n",
      ">> Log-likelihood = -6.313E+04 \t [ attachment = -6.283E+04 ; regularity = -2.974E+02 ]\n",
      "\n",
      "------------------------------------- Iteration: 3 -------------------------------------\n",
      ">> Log-likelihood = -5.323E+04 \t [ attachment = -5.284E+04 ; regularity = -3.920E+02 ]\n",
      "\n",
      "------------------------------------- Iteration: 4 -------------------------------------\n",
      ">> Log-likelihood = -3.347E+04 \t [ attachment = -3.243E+04 ; regularity = -1.038E+03 ]\n",
      "\n",
      "------------------------------------- Iteration: 5 -------------------------------------\n",
      ">> Log-likelihood = -2.818E+04 \t [ attachment = -2.688E+04 ; regularity = -1.301E+03 ]\n",
      "\n",
      "------------------------------------- Iteration: 6 -------------------------------------\n",
      ">> Log-likelihood = -2.387E+04 \t [ attachment = -2.242E+04 ; regularity = -1.454E+03 ]\n",
      "\n",
      "------------------------------------- Iteration: 7 -------------------------------------\n",
      ">> Log-likelihood = -2.181E+04 \t [ attachment = -1.999E+04 ; regularity = -1.816E+03 ]\n",
      "\n",
      "------------------------------------- Iteration: 8 -------------------------------------\n",
      ">> Log-likelihood = -1.940E+04 \t [ attachment = -1.732E+04 ; regularity = -2.083E+03 ]\n",
      "\n",
      "------------------------------------- Iteration: 9 -------------------------------------\n",
      ">> Log-likelihood = -1.779E+04 \t [ attachment = -1.583E+04 ; regularity = -1.964E+03 ]\n",
      "\n",
      "------------------------------------- Iteration: 10 -------------------------------------\n",
      ">> Log-likelihood = -1.648E+04 \t [ attachment = -1.438E+04 ; regularity = -2.100E+03 ]\n",
      "\n",
      "------------------------------------- Iteration: 11 -------------------------------------\n",
      ">> Log-likelihood = -1.486E+04 \t [ attachment = -1.221E+04 ; regularity = -2.643E+03 ]\n",
      "\n",
      "------------------------------------- Iteration: 12 -------------------------------------\n",
      ">> Log-likelihood = -1.411E+04 \t [ attachment = -1.110E+04 ; regularity = -3.013E+03 ]\n",
      "\n",
      "------------------------------------- Iteration: 13 -------------------------------------\n",
      ">> Log-likelihood = -1.253E+04 \t [ attachment = -7.908E+03 ; regularity = -4.617E+03 ]\n",
      ">> Log-likelihood = -1.278E+04 \t [ attachment = -9.231E+03 ; regularity = -3.545E+03 ]\n",
      "\n",
      "------------------------------------- Iteration: 14 -------------------------------------\n",
      ">> Log-likelihood = -1.187E+04 \t [ attachment = -8.300E+03 ; regularity = -3.569E+03 ]\n",
      ">> Log-likelihood = -1.175E+04 \t [ attachment = -8.204E+03 ; regularity = -3.546E+03 ]\n",
      "\n",
      "------------------------------------- Iteration: 15 -------------------------------------\n",
      ">> Log-likelihood = -1.141E+04 \t [ attachment = -7.786E+03 ; regularity = -3.623E+03 ]\n",
      "\n",
      "------------------------------------- Iteration: 16 -------------------------------------\n",
      ">> Log-likelihood = -1.119E+04 \t [ attachment = -7.581E+03 ; regularity = -3.605E+03 ]\n",
      "\n",
      "------------------------------------- Iteration: 17 -------------------------------------\n",
      ">> Log-likelihood = -1.059E+04 \t [ attachment = -6.910E+03 ; regularity = -3.683E+03 ]\n",
      "\n",
      "------------------------------------- Iteration: 18 -------------------------------------\n",
      ">> Log-likelihood = -9.796E+03 \t [ attachment = -5.746E+03 ; regularity = -4.051E+03 ]\n",
      "\n",
      "------------------------------------- Iteration: 19 -------------------------------------\n",
      ">> Log-likelihood = -9.324E+03 \t [ attachment = -4.704E+03 ; regularity = -4.620E+03 ]\n",
      "\n",
      "------------------------------------- Iteration: 20 -------------------------------------\n",
      ">> Log-likelihood = -8.861E+03 \t [ attachment = -3.941E+03 ; regularity = -4.921E+03 ]\n",
      "\n",
      "------------------------------------- Iteration: 21 -------------------------------------\n",
      ">> Log-likelihood = -8.632E+03 \t [ attachment = -4.058E+03 ; regularity = -4.575E+03 ]\n",
      "\n",
      "------------------------------------- Iteration: 22 -------------------------------------\n",
      ">> Log-likelihood = -8.699E+03 \t [ attachment = -4.295E+03 ; regularity = -4.404E+03 ]\n",
      ">> Log-likelihood = -8.635E+03 \t [ attachment = -4.114E+03 ; regularity = -4.521E+03 ]\n",
      ">> Log-likelihood = -8.632E+03 \t [ attachment = -4.070E+03 ; regularity = -4.562E+03 ]\n",
      ">> Log-likelihood = -8.632E+03 \t [ attachment = -4.060E+03 ; regularity = -4.572E+03 ]\n",
      ">> Log-likelihood = -8.632E+03 \t [ attachment = -4.058E+03 ; regularity = -4.574E+03 ]\n",
      ">> Log-likelihood = -8.632E+03 \t [ attachment = -4.058E+03 ; regularity = -4.574E+03 ]\n",
      ">> Log-likelihood = -8.632E+03 \t [ attachment = -4.058E+03 ; regularity = -4.575E+03 ]\n",
      ">> Log-likelihood = -8.632E+03 \t [ attachment = -4.058E+03 ; regularity = -4.575E+03 ]\n",
      ">> Log-likelihood = -8.632E+03 \t [ attachment = -4.058E+03 ; regularity = -4.575E+03 ]\n",
      ">> Log-likelihood = -8.632E+03 \t [ attachment = -4.058E+03 ; regularity = -4.575E+03 ]\n",
      ">> Log-likelihood = -1.357E+06 \t [ attachment = -1.284E+06 ; regularity = -7.249E+04 ]\n",
      ">> Log-likelihood = -6.203E+05 \t [ attachment = -5.915E+05 ; regularity = -2.889E+04 ]\n",
      ">> Log-likelihood = -3.376E+05 \t [ attachment = -3.237E+05 ; regularity = -1.395E+04 ]\n",
      ">> Log-likelihood = -1.854E+05 \t [ attachment = -1.769E+05 ; regularity = -8.505E+03 ]\n",
      ">> Log-likelihood = -9.203E+04 \t [ attachment = -8.565E+04 ; regularity = -6.378E+03 ]\n",
      ">> Log-likelihood = -4.133E+04 \t [ attachment = -3.586E+04 ; regularity = -5.466E+03 ]\n",
      ">> Log-likelihood = -1.962E+04 \t [ attachment = -1.458E+04 ; regularity = -5.041E+03 ]\n",
      ">> Log-likelihood = -1.190E+04 \t [ attachment = -7.068E+03 ; regularity = -4.828E+03 ]\n",
      ">> Log-likelihood = -9.433E+03 \t [ attachment = -4.718E+03 ; regularity = -4.715E+03 ]\n",
      ">> Log-likelihood = -8.727E+03 \t [ attachment = -4.074E+03 ; regularity = -4.653E+03 ]\n"
     ]
    },
    {
     "name": "stdout",
     "output_type": "stream",
     "text": [
      ">> Number of line search loops exceeded. Stopping.\n",
      ">> Estimation took: 10 minutes and 55 seconds\n",
      "Deformetrica.__del__()\n",
      "Deformetrica.__del__()\n"
     ]
    }
   ],
   "source": [
    "ae.estimate()"
   ]
  },
  {
   "cell_type": "markdown",
   "metadata": {},
   "source": [
    "Results"
   ]
  },
  {
   "cell_type": "code",
   "execution_count": 18,
   "metadata": {},
   "outputs": [
    {
     "name": "stdout",
     "output_type": "stream",
     "text": [
      "subjects, control_points, dim: (5, 24, 3)\n"
     ]
    },
    {
     "data": {
      "image/png": "[encoded data removed]",
      "text/plain": [
       "<Figure size 1440x504 with 3 Axes>"
      ]
     },
     "metadata": {
      "needs_background": "light"
     },
     "output_type": "display_data"
    },
    {
     "data": {
      "image/png": "[encoded data removed]",
      "text/plain": [
       "<Figure size 1008x432 with 2 Axes>"
      ]
     },
     "metadata": {
      "needs_background": "light"
     },
     "output_type": "display_data"
    }
   ],
   "source": [
    "ao = ssm_pca.DeformetricaAtlasPCA(\n",
    "    idir = ae.odir + \"output/\",\n",
    "    odir = ae.odir + \"pca/\")\n",
    "ao.compute_pca(with_plots=True)\n",
    "f0 = ao.save_eigv(0, with_controlpoints=True)\n",
    "f1 = ao.save_eigv(1, with_controlpoints=True)"
   ]
  },
  {
   "cell_type": "code",
   "execution_count": 19,
   "metadata": {},
   "outputs": [
    {
     "name": "stdout",
     "output_type": "stream",
     "text": [
      "Logger has been set to: INFO\n",
      "OMP_NUM_THREADS was not found in environment variables. An automatic value will be set.\n",
      "OMP_NUM_THREADS will be set to 4\n",
      "context has already been set\n",
      "[ compute_shooting function ]\n",
      "/home/face3d/Desktop/SSM - visualisation demo/Aorta -- Endrit/out/output/DeterministicAtlas__EstimatedParameters__Template_aorta.vtk 3\n",
      "(5000, 3) (9900, 3)\n",
      "Renaming files for paraview\n",
      "  regex:  /home/face3d/Desktop/SSM - visualisation demo/Aorta -- Endrit/out/pca/shoot0/Shooting__GeodesicFlow__aorta__tp_*__age_*.vtk\n",
      "  nb of files:  101\n",
      "Logger has been set to: INFO\n",
      "OMP_NUM_THREADS was not found in environment variables. An automatic value will be set.\n",
      "OMP_NUM_THREADS will be set to 4\n",
      "context has already been set\n",
      "[ compute_shooting function ]\n",
      "/home/face3d/Desktop/SSM - visualisation demo/Aorta -- Endrit/out/output/DeterministicAtlas__EstimatedParameters__Template_aorta.vtk 3\n",
      "(5000, 3) (9900, 3)\n",
      "Renaming files for paraview\n",
      "  regex:  /home/face3d/Desktop/SSM - visualisation demo/Aorta -- Endrit/out/pca/shoot1/Shooting__GeodesicFlow__aorta__tp_*__age_*.vtk\n",
      "  nb of files:  101\n"
     ]
    }
   ],
   "source": [
    "ae.shooting(f0, ae.odir + \"pca/shoot0/\")\n",
    "ae.shooting(f1, ae.odir + \"pca/shoot1/\")"
   ]
  },
  {
   "cell_type": "markdown",
   "metadata": {},
   "source": [
    "### warping mesh to template\n",
    "\n",
    "see /home/face3d/Desktop/SSM - visualisation demo/Aortic roots -- Claudio/warping_calcium.py"
   ]
  },
  {
   "cell_type": "code",
   "execution_count": 8,
   "metadata": {},
   "outputs": [
    {
     "name": "stdout",
     "output_type": "stream",
     "text": [
      "Logger has been set to: INFO\n",
      "OMP_NUM_THREADS was not found in environment variables. An automatic value will be set.\n",
      "OMP_NUM_THREADS will be set to 4\n",
      "[ compute_shooting function ]\n",
      "/home/face3d/Desktop/SSM - visualisation demo/Aorta -- Endrit/out/output/DeterministicAtlas__EstimatedParameters__Template_aorta.vtk 3\n",
      "(5000, 3) (9900, 3)\n",
      "Defaulting geodesic t0 to 1.\n"
     ]
    },
    {
     "name": "stderr",
     "output_type": "stream",
     "text": [
      "/home/face3d/anaconda3/envs/py36/lib/python3.7/site-packages/in_out/dataset_functions.py:265: UserWarning: Watch out, I did not get a distance type for the object aorta, Please make sure you are running shooting or a parallel transport, otherwise distances are required.\n",
      "  warnings.warn(msg)\n"
     ]
    }
   ],
   "source": [
    "fmmt, fctp = ae.momenta_from_sbj_to_atlas(0, ae.odir + \"sbj{}/\".format(0), do_warpback=True)"
   ]
  },
  {
   "cell_type": "markdown",
   "metadata": {},
   "source": [
    "### warping volumetric meshes\n",
    "(using the subject-to-template deformation)"
   ]
  },
  {
   "cell_type": "code",
   "execution_count": 10,
   "metadata": {},
   "outputs": [],
   "source": [
    "import volumetric_meshes"
   ]
  },
  {
   "cell_type": "code",
   "execution_count": 17,
   "metadata": {},
   "outputs": [
    {
     "data": {
      "text/plain": [
       "<module 'volumetric_meshes' from '/home/face3d/Documents/SSM_matlab_github/python/volumetric_meshes.py'>"
      ]
     },
     "execution_count": 17,
     "metadata": {},
     "output_type": "execute_result"
    }
   ],
   "source": [
    "importlib.reload(volumetric_meshes)"
   ]
  },
  {
   "cell_type": "code",
   "execution_count": 13,
   "metadata": {},
   "outputs": [
    {
     "name": "stdout",
     "output_type": "stream",
     "text": [
      "True /home/face3d/Desktop/SSM - visualisation demo/Aorta -- Endrit/TOF/TOFPR-3-1-segmentation_cfd.vtu\n"
     ]
    }
   ],
   "source": [
    "fn = ae.get_path_data(0)[:-7] + \"cfd.vtu\"\n",
    "print(os.path.exists(fn), fn)\n",
    "\n",
    "odir = ae.odir + \"sbj0/vtu/\""
   ]
  },
  {
   "cell_type": "code",
   "execution_count": 18,
   "metadata": {},
   "outputs": [
    {
     "name": "stdout",
     "output_type": "stream",
     "text": [
      "Logger has been set to: INFO\n",
      "OMP_NUM_THREADS found in environment variables. Using value OMP_NUM_THREADS=4\n",
      "context has already been set\n",
      "[ compute_shooting function ]\n",
      "Defaulting geodesic t0 to 1.\n"
     ]
    }
   ],
   "source": [
    "volumetric_meshes.shoot_vtu(fin=fn, fvtk=odir+\"points.vtk\", \n",
    "                          fmoments=fmmt, fctrlpts=fctp, \n",
    "                          odir=odir, fout=odir+\"vol_mesh.vtu\", \n",
    "                          kw=ae.p_kernel_width_deformation, noise=ae.p_noise, name=ae.id)"
   ]
  },
  {
   "cell_type": "markdown",
   "metadata": {},
   "source": [
    "### warping a mesh back to atlas\n",
    "similar to do_warpback option in ae.momenta_from_sbj_to_atlas"
   ]
  },
  {
   "cell_type": "code",
   "execution_count": 21,
   "metadata": {},
   "outputs": [],
   "source": [
    "import deformetrica"
   ]
  },
  {
   "cell_type": "code",
   "execution_count": 22,
   "metadata": {},
   "outputs": [
    {
     "name": "stdout",
     "output_type": "stream",
     "text": [
      "Logger has been set to: INFO\n",
      "OMP_NUM_THREADS was not found in environment variables. An automatic value will be set.\n",
      "OMP_NUM_THREADS will be set to 4\n",
      "context has already been set\n",
      "[ compute_shooting function ]\n",
      "/home/face3d/Desktop/SSM - visualisation demo/Aorta -- Endrit/TOF/TOFPR-3-1-segmentation_ext.vtk 3\n",
      "(5000, 3) (9900, 3)\n",
      "Defaulting geodesic t0 to 1.\n"
     ]
    },
    {
     "name": "stderr",
     "output_type": "stream",
     "text": [
      "/home/face3d/anaconda3/envs/py36/lib/python3.7/site-packages/in_out/dataset_functions.py:265: UserWarning: Watch out, I did not get a distance type for the object aorta, Please make sure you are running shooting or a parallel transport, otherwise distances are required.\n",
      "  warnings.warn(msg)\n"
     ]
    }
   ],
   "source": [
    "template_specifications = {\n",
    "                ae.id: {'deformable_object_type': 'surfacemesh',\n",
    "                'noise_std': 0.,\n",
    "                'filename': ae.get_path_data(0)}\n",
    "            }\n",
    "model_options={\n",
    "                'dimension': 3,\n",
    "                'deformation_kernel_type': 'torch',\n",
    "                'deformation_kernel_width': ae.p_kernel_width_deformation,\n",
    "                'tmin':0,\n",
    "                'tmax':1,\n",
    "                \"initial_control_points\": ae.odir + \"sbj0/backward_ctrlpts.txt\",\n",
    "                \"initial_momenta\": ae.odir + \"sbj0/backward_momenta.txt\"}\n",
    "\n",
    "Deformetrica = deformetrica.api.Deformetrica(verbosity=\"INFO\", output_dir=ae.odir + \"sbj0/backward/\")\n",
    "Deformetrica.compute_shooting(template_specifications, model_options=model_options)"
   ]
  },
  {
   "cell_type": "code",
   "execution_count": null,
   "metadata": {},
   "outputs": [],
   "source": []
  },
  {
   "cell_type": "code",
   "execution_count": null,
   "metadata": {},
   "outputs": [],
   "source": []
  },
  {
   "cell_type": "code",
   "execution_count": null,
   "metadata": {},
   "outputs": [],
   "source": []
  },
  {
   "cell_type": "code",
   "execution_count": null,
   "metadata": {},
   "outputs": [],
   "source": []
  }
 ],
 "metadata": {
  "kernelspec": {
   "display_name": "Python 3",
   "language": "python",
   "name": "python3"
  },
  "language_info": {
   "codemirror_mode": {
    "name": "ipython",
    "version": 3
   },
   "file_extension": ".py",
   "mimetype": "text/x-python",
   "name": "python",
   "nbconvert_exporter": "python",
   "pygments_lexer": "ipython3",
   "version": "3.7.6"
  }
 },
 "nbformat": 4,
 "nbformat_minor": 4
}
